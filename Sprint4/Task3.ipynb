{
 "cells": [
  {
   "cell_type": "markdown",
   "metadata": {},
   "source": [
    "<h1 style=\"color:DodgerBlue\">Индивидальный проект</h1>"
   ]
  },
  {
   "cell_type": "markdown",
   "metadata": {},
   "source": [
    "<h2 style=\"color:DodgerBlue\">Название проекта:</h2>\n",
    "\n",
    "----\n",
    "\n",
    "### Вариант задания 7\n"
   ]
  },
  {
   "cell_type": "markdown",
   "metadata": {},
   "source": [
    "<h2 style=\"color:DodgerBlue\">Описание проекта:</h2>\n",
    "\n",
    "----\n",
    "Создать базовый класс BankAccount в C#, который будет представлять\n",
    "информацию об учетных записях в банке. На основе этого класса разработать 2-3\n",
    "производных класса, демонстрирующих принципы наследования и полиморфизма.\n",
    "В каждом из классов должны быть реализованы новые атрибуты и методы, а также\n",
    "переопределены некоторые методы базового класса для демонстрации\n",
    "полиморфизма. \n",
    "\n",
    "<b>Требования к базовому классу BankAccount:</b>\n",
    "<ul>\n",
    "    <li>Атрибуты: Номер счета (AccountNumber), Баланс (Balance), Тип счет (AccountType).</li>\n",
    "    <li>Методы:</li>\n",
    "    <ul>\n",
    "        <li>GetInfo(): метод для получения информации о счете в виде строки.</li>\n",
    "        <li>Deposit(decimal amount): метод для внесения денег на счет.</li>\n",
    "        <li>Withdraw(decimal amount): метод для снятия денег со счета.</li>\n",
    "    </ul>\n",
    "</ul>\n",
    "\n",
    "<b>Требования к производным классам:</b>\n",
    "\n",
    "<ol>\n",
    "    <li>Сберегательный счет (SavingsAccount): Должен содержать дополнительные атрибуты, такие как Процентная ставка (InterestRate). Метод Deposit() должен быть переопределен для добавления процентов к сумме вклада при внесении денег на счет.</li>\n",
    "    <li>Текущий счет (CheckingAccount): Должен содержать дополнительные атрибуты, такие как Лимит овердрафта (OverdraftLimit). Метод Withdra () должен быть переопределен для проверки и применения лимита овердрафта при снятии денег со счета.</li>\n",
    "    <li>Инвестиционный счет (InvestmentAccount) (если требуется третий класс): Должен содержать дополнительные атрибуты, такие как Список активов (AssetsList). Метод GetInfo() должен быть переопределен для включения информации о списках активов в описании счета.</li>\n",
    "</ol>\n",
    "\n",
    "#### Дополнительное задание\n",
    "Добавьте к сущестующим классам (базовыму и производным 3-4 атрибута и метода) создайте явную реализации интерфейса и управление зависимостями"
   ]
  },
  {
   "cell_type": "markdown",
   "metadata": {},
   "source": [
    "<h2 style=\"color:DodgerBlue\">Реализация:</h2>\n",
    "\n",
    "----"
   ]
  },
  {
   "cell_type": "code",
   "execution_count": 1,
   "metadata": {
    "dotnet_interactive": {
     "language": "csharp"
    },
    "polyglot_notebook": {
     "kernelName": "csharp"
    }
   },
   "outputs": [
    {
     "ename": "Error",
     "evalue": "(142,9): error CS0246: The type or namespace name 'CheckingAccount' could not be found (are you missing a using directive or an assembly reference?)\r\n(142,47): error CS0246: The type or namespace name 'CheckingAccount' could not be found (are you missing a using directive or an assembly reference?)\r\n(146,9): error CS0246: The type or namespace name 'InvestmentAccount' could not be found (are you missing a using directive or an assembly reference?)\r\n(146,51): error CS0246: The type or namespace name 'InvestmentAccount' could not be found (are you missing a using directive or an assembly reference?)",
     "output_type": "error",
     "traceback": [
      "(142,9): error CS0246: The type or namespace name 'CheckingAccount' could not be found (are you missing a using directive or an assembly reference?)\r\n",
      "(142,47): error CS0246: The type or namespace name 'CheckingAccount' could not be found (are you missing a using directive or an assembly reference?)\r\n",
      "(146,9): error CS0246: The type or namespace name 'InvestmentAccount' could not be found (are you missing a using directive or an assembly reference?)\r\n",
      "(146,51): error CS0246: The type or namespace name 'InvestmentAccount' could not be found (are you missing a using directive or an assembly reference?)"
     ]
    }
   ],
   "source": [
    "using System;\n",
    "using System.Collections.Generic;\n",
    "\n",
    "\n",
    "public interface IBankOperations\n",
    "{\n",
    "    void Deposit(decimal amount);\n",
    "    void Withdraw(decimal amount);\n",
    "    string GetInfo();\n",
    "}\n",
    "\n",
    "\n",
    "public class BankAccount : IBankOperations\n",
    "{\n",
    "    public string AccountNumber { get; set; }\n",
    "    public decimal Balance { get; protected set; }\n",
    "    public string AccountType { get; protected set; }\n",
    "\n",
    "    public BankAccount(string accountNumber, decimal initialBalance, string accountType)\n",
    "    {\n",
    "        AccountNumber = accountNumber;\n",
    "        Balance = initialBalance;\n",
    "        AccountType = accountType;\n",
    "    }\n",
    "\n",
    "    public virtual void Deposit(decimal amount)\n",
    "    {\n",
    "        Balance += amount;\n",
    "    }\n",
    "\n",
    "    public virtual void Withdraw(decimal amount)\n",
    "    {\n",
    "        if (amount > Balance)\n",
    "            throw new InvalidOperationException(\"Недостаточно средств.\");\n",
    "        Balance -= amount;\n",
    "    }\n",
    "\n",
    "    public virtual string GetInfo()\n",
    "    {\n",
    "        return $\"Номер счета: {AccountNumber}, Баланс: {Balance:C}, Тип счета: {AccountType}\";\n",
    "    }\n",
    "}\n",
    "\n",
    "\n",
    "public class SavingsAccount : BankAccount\n",
    "{\n",
    "    public decimal InterestRate { get; set; }\n",
    "\n",
    "    public SavingsAccount(string accountNumber, decimal initialBalance, string accountType, decimal interestRate)\n",
    "        : base(accountNumber, initialBalance, accountType)\n",
    "    {\n",
    "        InterestRate = interestRate;\n",
    "    }\n",
    "\n",
    "    public override void Deposit(decimal amount)\n",
    "    {\n",
    "        base.Deposit(amount);\n",
    "        Balance += Balance * (InterestRate / 100); // Начисление процентов\n",
    "    }\n",
    "\n",
    "    public override string GetInfo()\n",
    "    {\n",
    "        return base.GetInfo() + $\", Процентная ставка: {InterestRate}%\";\n",
    "    }\n",
    "}\n",
    "\n",
    "// Явная реализация интерфейса \n",
    "public class SecureDepositAccount : SavingsAccount, IBankOperations\n",
    "{\n",
    "    public bool IsAccountBlocked { get; private set; }\n",
    "\n",
    "    public SecureDepositAccount(string accountNumber, decimal initialBalance, string accountType, decimal interestRate)\n",
    "        : base(accountNumber, initialBalance, accountType, interestRate)\n",
    "    {\n",
    "        IsAccountBlocked = false;\n",
    "    }\n",
    "\n",
    "    // Явная реализация метода Deposit интерфейса IBankOperations\n",
    "    void IBankOperations.Deposit(decimal amount)\n",
    "    {\n",
    "        if (IsAccountBlocked)\n",
    "        {\n",
    "            throw new InvalidOperationException(\"Счет заблокирован. Внесение средств невозможно.\");\n",
    "        }\n",
    "        base.Deposit(amount);\n",
    "    }\n",
    "\n",
    "    // Явная реализация метода Withdraw интерфейса IBankOperations\n",
    "    void IBankOperations.Withdraw(decimal amount)\n",
    "    {\n",
    "        if (IsAccountBlocked)\n",
    "        {\n",
    "            throw new InvalidOperationException(\"Счет заблокирован. Снятие средств невозможно.\");\n",
    "        }\n",
    "        base.Withdraw(amount);\n",
    "    }\n",
    "\n",
    "    // Явная реализация метода GetInfo интерфейса IBankOperations\n",
    "    string IBankOperations.GetInfo()\n",
    "    {\n",
    "        string blockedStatus = IsAccountBlocked ? \"Заблокирован\" : \"Активен\";\n",
    "        return base.GetInfo() + $\", Статус счета: {blockedStatus}\";\n",
    "    }\n",
    "\n",
    "    // Метод для блокировки счета\n",
    "    public void BlockAccount()\n",
    "    {\n",
    "        IsAccountBlocked = true;\n",
    "        Console.WriteLine($\"Счет {AccountNumber} заблокирован.\");\n",
    "    }\n",
    "}\n",
    "\n",
    "// Пример использования внедрения зависимостей через интерфейсы\n",
    "public class AccountManager\n",
    "{\n",
    "    private readonly IBankOperations _bankOperations;\n",
    "\n",
    "    // Внедрение зависимости через конструктор\n",
    "    public AccountManager(IBankOperations bankOperations)\n",
    "    {\n",
    "        _bankOperations = bankOperations;\n",
    "    }\n",
    "\n",
    "\n",
    "    public void MakeDeposit(decimal amount)\n",
    "    {\n",
    "        _bankOperations.Deposit(amount);\n",
    "        Console.WriteLine($\"Пополнение в размере {amount:C} успешно выполнено.\");\n",
    "    }\n",
    "\n",
    "\n",
    "    public void MakeWithdrawal(decimal amount)\n",
    "    {\n",
    "        _bankOperations.Withdraw(amount);\n",
    "        Console.WriteLine($\"Снятие в размере {amount:C} успешно выполнено.\");\n",
    "    }\n",
    "\n",
    "    public void PrintAccountInfo()\n",
    "    {\n",
    "        Console.WriteLine(_bankOperations.GetInfo());\n",
    "    }\n",
    "}\n",
    "\n",
    "\n",
    "\n",
    "IBankOperations secureAccount = new SecureDepositAccount(\"98765\", 2000, \"Сберегательный\", 3);\n",
    "\n",
    "AccountManager manager = new AccountManager(secureAccount);\n",
    "\n",
    "manager.MakeDeposit(500);\n",
    "manager.PrintAccountInfo();\n",
    "\n",
    "manager.MakeWithdrawal(300);\n",
    "manager.PrintAccountInfo();\n"
   ]
  },
  {
   "cell_type": "code",
   "execution_count": null,
   "metadata": {},
   "outputs": [],
   "source": []
  },
  {
   "cell_type": "code",
   "execution_count": 2,
   "metadata": {
    "dotnet_interactive": {
     "language": "csharp"
    },
    "polyglot_notebook": {
     "kernelName": "csharp"
    }
   },
   "outputs": [
    {
     "ename": "Error",
     "evalue": "(2,1): error CS0246: The type or namespace name 'AccountStorage<>' could not be found (are you missing a using directive or an assembly reference?)\r\n(2,43): error CS0246: The type or namespace name 'AccountStorage<>' could not be found (are you missing a using directive or an assembly reference?)\r\n(3,20): error CS0103: The name 'savingsAccount' does not exist in the current context\r\n(4,20): error CS0103: The name 'checkingAccount' does not exist in the current context\r\n(5,20): error CS0103: The name 'investmentAccount' does not exist in the current context",
     "output_type": "error",
     "traceback": [
      "(2,1): error CS0246: The type or namespace name 'AccountStorage<>' could not be found (are you missing a using directive or an assembly reference?)\r\n",
      "(2,43): error CS0246: The type or namespace name 'AccountStorage<>' could not be found (are you missing a using directive or an assembly reference?)\r\n",
      "(3,20): error CS0103: The name 'savingsAccount' does not exist in the current context\r\n",
      "(4,20): error CS0103: The name 'checkingAccount' does not exist in the current context\r\n",
      "(5,20): error CS0103: The name 'investmentAccount' does not exist in the current context"
     ]
    }
   ],
   "source": [
    "\n",
    "AccountStorage<BankAccount> storage = new AccountStorage<BankAccount>();\n",
    "storage.AddAccount(savingsAccount);\n",
    "storage.AddAccount(checkingAccount);\n",
    "storage.AddAccount(investmentAccount);\n",
    "\n",
    "\n",
    "storage.PrintAllAccountsInfo();\n",
    "storage.ShowCount();\n"
   ]
  },
  {
   "cell_type": "code",
   "execution_count": 68,
   "metadata": {
    "dotnet_interactive": {
     "language": "csharp"
    },
    "polyglot_notebook": {
     "kernelName": "csharp"
    }
   },
   "outputs": [
    {
     "ename": "Error",
     "evalue": "(1,1): error CS0246: The type or namespace name 'BusinessAccount' could not be found (are you missing a using directive or an assembly reference?)\r\n(1,39): error CS0246: The type or namespace name 'BusinessAccount' could not be found (are you missing a using directive or an assembly reference?)",
     "output_type": "error",
     "traceback": [
      "(1,1): error CS0246: The type or namespace name 'BusinessAccount' could not be found (are you missing a using directive or an assembly reference?)\r\n",
      "(1,39): error CS0246: The type or namespace name 'BusinessAccount' could not be found (are you missing a using directive or an assembly reference?)"
     ]
    }
   ],
   "source": [
    "BusinessAccount businessAccount = new BusinessAccount(\"001122\", 2000, \"Бизнес\", \"ООО Компания\", \"1234567890\");\n",
    "Console.WriteLine(businessAccount.GetInfo());\n",
    "businessAccount.SubmitTaxReport();"
   ]
  },
  {
   "cell_type": "code",
   "execution_count": 69,
   "metadata": {
    "dotnet_interactive": {
     "language": "csharp"
    },
    "polyglot_notebook": {
     "kernelName": "csharp"
    }
   },
   "outputs": [],
   "source": [
    "BonusSavingsAccount bonusSavingsAccount = new BonusSavingsAccount(\n",
    "\"987654\", 6000, \"Сберегательный\", 3, 2); \n",
    "\n",
    "Console.WriteLine(bonusSavingsAccount.GetInfo());\n",
    "bonusSavingsAccount.ApplyBonus();\n",
    "Console.WriteLine(bonusSavingsAccount.GetInfo());"
   ]
  },
  {
   "cell_type": "code",
   "execution_count": 62,
   "metadata": {
    "dotnet_interactive": {
     "language": "csharp"
    },
    "polyglot_notebook": {
     "kernelName": "csharp"
    }
   },
   "outputs": [],
   "source": [
    "\n",
    "SecureDepositAccount secureAccount = new SecureDepositAccount(\"98765\", 2000, \"Депозит\", 2.5m);\n",
    "Console.WriteLine(secureAccount.GetInfo());\n",
    "secureAccount.Withdraw(1901);\n",
    "secureAccount.CheckSuspiciousActivity();\n",
    "Console.WriteLine(secureAccount.GetInfo());\n",
    "\n"
   ]
  },
  {
   "cell_type": "code",
   "execution_count": 81,
   "metadata": {
    "dotnet_interactive": {
     "language": "csharp"
    },
    "polyglot_notebook": {
     "kernelName": "csharp"
    }
   },
   "outputs": [],
   "source": [
    "MortgageAccount mortgageAccount = new MortgageAccount(\"98765\", 80000,\"Ипотечный\",4, 360);\n",
    "Console.WriteLine(mortgageAccount.GetInfo());"
   ]
  },
  {
   "cell_type": "code",
   "execution_count": 137,
   "metadata": {
    "dotnet_interactive": {
     "language": "csharp"
    },
    "polyglot_notebook": {
     "kernelName": "csharp"
    }
   },
   "outputs": [],
   "source": [
    "savingsAccount.Transfer(checkingAccount, 100);\n",
    "Console.WriteLine(savingsAccount.GetInfo());\n",
    "Console.WriteLine(checkingAccount.GetInfo());"
   ]
  },
  {
   "cell_type": "code",
   "execution_count": 100,
   "metadata": {
    "dotnet_interactive": {
     "language": "csharp"
    },
    "polyglot_notebook": {
     "kernelName": "csharp"
    }
   },
   "outputs": [],
   "source": []
  },
  {
   "cell_type": "markdown",
   "metadata": {},
   "source": []
  },
  {
   "cell_type": "code",
   "execution_count": 136,
   "metadata": {
    "dotnet_interactive": {
     "language": "csharp"
    },
    "polyglot_notebook": {
     "kernelName": "csharp"
    }
   },
   "outputs": [],
   "source": []
  }
 ],
 "metadata": {
  "kernelspec": {
   "display_name": ".NET (C#)",
   "language": "C#",
   "name": ".net-csharp"
  },
  "polyglot_notebook": {
   "kernelInfo": {
    "defaultKernelName": "csharp",
    "items": [
     {
      "aliases": [],
      "languageName": "csharp",
      "name": "csharp"
     }
    ]
   }
  }
 },
 "nbformat": 4,
 "nbformat_minor": 2
}
