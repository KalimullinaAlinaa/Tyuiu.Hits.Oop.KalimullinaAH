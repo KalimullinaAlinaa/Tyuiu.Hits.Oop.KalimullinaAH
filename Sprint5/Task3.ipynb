{
 "cells": [
  {
   "cell_type": "markdown",
   "metadata": {},
   "source": [
    "<h1 style=\"color:DodgerBlue\">Индивидальный проект</h1>"
   ]
  },
  {
   "cell_type": "markdown",
   "metadata": {},
   "source": [
    "<h2 style=\"color:DodgerBlue\">Название проекта:</h2>\n",
    "\n",
    "----\n",
    "\n",
    "### Вариант задания 7\n"
   ]
  },
  {
   "cell_type": "markdown",
   "metadata": {},
   "source": [
    "<h2 style=\"color:DodgerBlue\">Описание проекта:</h2>\n",
    "\n",
    "----\n",
    "Создать базовый класс BankAccount в C#, который будет представлять\n",
    "информацию об учетных записях в банке. На основе этого класса разработать 2-3\n",
    "производных класса, демонстрирующих принципы наследования и полиморфизма.\n",
    "В каждом из классов должны быть реализованы новые атрибуты и методы, а также\n",
    "переопределены некоторые методы базового класса для демонстрации\n",
    "полиморфизма. \n",
    "\n",
    "<b>Требования к базовому классу BankAccount:</b>\n",
    "<ul>\n",
    "    <li>Атрибуты: Номер счета (AccountNumber), Баланс (Balance), Тип счет (AccountType).</li>\n",
    "    <li>Методы:</li>\n",
    "    <ul>\n",
    "        <li>GetInfo(): метод для получения информации о счете в виде строки.</li>\n",
    "        <li>Deposit(decimal amount): метод для внесения денег на счет.</li>\n",
    "        <li>Withdraw(decimal amount): метод для снятия денег со счета.</li>\n",
    "    </ul>\n",
    "</ul>\n",
    "\n",
    "<b>Требования к производным классам:</b>\n",
    "\n",
    "<ol>\n",
    "    <li>Сберегательный счет (SavingsAccount): Должен содержать дополнительные атрибуты, такие как Процентная ставка (InterestRate). Метод Deposit() должен быть переопределен для добавления процентов к сумме вклада при внесении денег на счет.</li>\n",
    "    <li>Текущий счет (CheckingAccount): Должен содержать дополнительные атрибуты, такие как Лимит овердрафта (OverdraftLimit). Метод Withdra () должен быть переопределен для проверки и применения лимита овердрафта при снятии денег со счета.</li>\n",
    "    <li>Инвестиционный счет (InvestmentAccount) (если требуется третий класс): Должен содержать дополнительные атрибуты, такие как Список активов (AssetsList). Метод GetInfo() должен быть переопределен для включения информации о списках активов в описании счета.</li>\n",
    "</ol>\n",
    "\n",
    "Дополнительное задание\n",
    "Добавьте к сущестующим классам (базовыму и производным 3-4 атрибута и метода) исользуйтие в проекте коллекции, делегаты, события."
   ]
  },
  {
   "cell_type": "markdown",
   "metadata": {},
   "source": [
    "<h2 style=\"color:DodgerBlue\">Реализация:</h2>\n",
    "\n",
    "----"
   ]
  },
  {
   "cell_type": "code",
   "execution_count": 1,
   "metadata": {
    "dotnet_interactive": {
     "language": "csharp"
    },
    "polyglot_notebook": {
     "kernelName": "csharp"
    }
   },
   "outputs": [
    {
     "name": "stdout",
     "output_type": "stream",
     "text": [
      "Информация о счетах:\n",
      "Номер счета: 98765, Баланс: 2 000,00 ¤, Тип счета: Депозит, Процентная ставка: 2,5%\n",
      "Номер счета: 12345, Баланс: 1 500,00 ¤, Тип счета: Сберегательный, Процентная ставка: 3,0%\n",
      "SavingsAccount новый баланс: 2 000,00 ¤\n",
      "Пополнение в размере 500,00 ¤ успешно выполнено.\n",
      "SavingsAccount новый баланс: 1 860,00 ¤\n",
      "Снятие в размере 200,00 ¤ успешно выполнено.\n",
      "Номер счета: 12345, Баланс: 1 860,00 ¤, Тип счета: Сберегательный, Процентная ставка: 3,0%\n",
      "\n",
      "Счета с балансом более 1000:\n",
      "Номер счета: 98765, Баланс: 2 000,00 ¤, Тип счета: Депозит, Процентная ставка: 2,5%\n",
      "Номер счета: 12345, Баланс: 1 860,00 ¤, Тип счета: Сберегательный, Процентная ставка: 3,0%\n"
     ]
    }
   ],
   "source": [
    "using System;\n",
    "using System.Collections.Generic;\n",
    "\n",
    "public interface IBankOperations\n",
    "{\n",
    "    void Deposit(decimal amount);\n",
    "    void Withdraw(decimal amount);\n",
    "    string GetInfo();\n",
    "}\n",
    "\n",
    "// Делегат возвращает строку, чтобы соответствовать методу GetInfo\n",
    "public delegate string DisplayDelegate();\n",
    "\n",
    "public class BankAccount : IBankOperations\n",
    "{\n",
    "    public string AccountNumber { get; set; }\n",
    "    public decimal Balance { get; protected set; }\n",
    "    public string AccountType { get; protected set; }\n",
    "\n",
    "    // Событие изменения баланса\n",
    "    public event Action<decimal> BalanceChanged;\n",
    "\n",
    "    public BankAccount(string accountNumber, decimal initialBalance, string accountType)\n",
    "    {\n",
    "        AccountNumber = accountNumber;\n",
    "        Balance = initialBalance;\n",
    "        AccountType = accountType;\n",
    "    }\n",
    "\n",
    "    public virtual void Deposit(decimal amount)\n",
    "    {\n",
    "        if (amount <= 0)\n",
    "            throw new ArgumentException(\"Сумма пополнения должна быть больше 0.\");\n",
    "        Balance += amount;\n",
    "        BalanceChanged?.Invoke(Balance);\n",
    "    }\n",
    "\n",
    "    public virtual void Withdraw(decimal amount)\n",
    "    {\n",
    "        if (amount > Balance)\n",
    "            throw new InvalidOperationException(\"Недостаточно средств.\");\n",
    "        Balance -= amount;\n",
    "        BalanceChanged?.Invoke(Balance);\n",
    "    }\n",
    "\n",
    "    public virtual string GetInfo()\n",
    "    {\n",
    "        return $\"Номер счета: {AccountNumber}, Баланс: {Balance:C}, Тип счета: {AccountType}\";\n",
    "    }\n",
    "}\n",
    "\n",
    "public class SavingsAccount : BankAccount\n",
    "{\n",
    "    public decimal InterestRate { get; set; }\n",
    "\n",
    "    public SavingsAccount(string accountNumber, decimal initialBalance, string accountType, decimal interestRate)\n",
    "        : base(accountNumber, initialBalance, accountType)\n",
    "    {\n",
    "        InterestRate = interestRate;\n",
    "    }\n",
    "\n",
    "    public override void Deposit(decimal amount)\n",
    "    {\n",
    "        base.Deposit(amount);\n",
    "        Balance += Balance * (InterestRate / 100); // Начисление процентов\n",
    "    }\n",
    "\n",
    "    public override string GetInfo()\n",
    "    {\n",
    "        return base.GetInfo() + $\", Процентная ставка: {InterestRate}%\";\n",
    "    }\n",
    "}\n",
    "\n",
    "public class SecureDepositAccount : SavingsAccount, IBankOperations\n",
    "{\n",
    "    public bool IsAccountBlocked { get; private set; }\n",
    "\n",
    "    public SecureDepositAccount(string accountNumber, decimal initialBalance, string accountType, decimal interestRate)\n",
    "        : base(accountNumber, initialBalance, accountType, interestRate)\n",
    "    {\n",
    "        IsAccountBlocked = false;\n",
    "    }\n",
    "\n",
    "    void IBankOperations.Deposit(decimal amount)\n",
    "    {\n",
    "        if (IsAccountBlocked)\n",
    "        {\n",
    "            throw new InvalidOperationException(\"Счет заблокирован. Внесение средств невозможно.\");\n",
    "        }\n",
    "        base.Deposit(amount);\n",
    "    }\n",
    "\n",
    "    void IBankOperations.Withdraw(decimal amount)\n",
    "    {\n",
    "        if (IsAccountBlocked)\n",
    "        {\n",
    "            throw new InvalidOperationException(\"Счет заблокирован. Снятие средств невозможно.\");\n",
    "        }\n",
    "        base.Withdraw(amount);\n",
    "    }\n",
    "\n",
    "    string IBankOperations.GetInfo()\n",
    "    {\n",
    "        string blockedStatus = IsAccountBlocked ? \"Заблокирован\" : \"Активен\";\n",
    "        return base.GetInfo() + $\", Статус счета: {blockedStatus}\";\n",
    "    }\n",
    "\n",
    "    public void BlockAccount()\n",
    "    {\n",
    "        IsAccountBlocked = true;\n",
    "        Console.WriteLine($\"Счет {AccountNumber} заблокирован.\");\n",
    "    }\n",
    "}\n",
    "\n",
    "public class AccountManager\n",
    "{\n",
    "    private readonly IBankOperations _bankOperations;\n",
    "\n",
    "    public AccountManager(IBankOperations bankOperations)\n",
    "    {\n",
    "        _bankOperations = bankOperations;\n",
    "    }\n",
    "\n",
    "    public void MakeDeposit(decimal amount)\n",
    "    {\n",
    "        _bankOperations.Deposit(amount);\n",
    "        Console.WriteLine($\"Пополнение в размере {amount:C} успешно выполнено.\");\n",
    "    }\n",
    "\n",
    "    public void MakeWithdrawal(decimal amount)\n",
    "    {\n",
    "        _bankOperations.Withdraw(amount);\n",
    "        Console.WriteLine($\"Снятие в размере {amount:C} успешно выполнено.\");\n",
    "    }\n",
    "\n",
    "    public void PrintAccountInfo()\n",
    "    {\n",
    "        Console.WriteLine(_bankOperations.GetInfo());\n",
    "    }\n",
    "}\n",
    "\n",
    "\n",
    "        // Создаем счета\n",
    "        var secureAccount = new SecureDepositAccount(\"98765\", 2000, \"Депозит\", 2.5m);\n",
    "        var savingsAccount = new SavingsAccount(\"12345\", 1500, \"Сберегательный\", 3.0m);\n",
    "\n",
    "        // Подписываемся на события изменения баланса\n",
    "        secureAccount.BalanceChanged += newBalance => Console.WriteLine($\"SecureAccount новый баланс: {newBalance:C}\");\n",
    "        savingsAccount.BalanceChanged += newBalance => Console.WriteLine($\"SavingsAccount новый баланс: {newBalance:C}\");\n",
    "\n",
    "        // Используем делегат для отображения информации\n",
    "        DisplayDelegate displaySecure = secureAccount.GetInfo;\n",
    "        DisplayDelegate displaySavings = savingsAccount.GetInfo;\n",
    "\n",
    "        Console.WriteLine(\"Информация о счетах:\");\n",
    "        Console.WriteLine(displaySecure.Invoke()); // Вызов делегата\n",
    "        Console.WriteLine(displaySavings.Invoke());\n",
    "\n",
    "        var manager = new AccountManager(savingsAccount);\n",
    "        manager.MakeDeposit(500);\n",
    "        manager.MakeWithdrawal(200);\n",
    "        manager.PrintAccountInfo();\n",
    "\n",
    "        // Лямбда-выражения для фильтрации\n",
    "        List<BankAccount> accounts = new List<BankAccount> { secureAccount, savingsAccount };\n",
    "        var highBalanceAccounts = accounts.FindAll(acc => acc.Balance > 1000);\n",
    "\n",
    "        Console.WriteLine(\"\\nСчета с балансом более 1000:\");\n",
    "        foreach (var acc in highBalanceAccounts)\n",
    "        {\n",
    "            Console.WriteLine(acc.GetInfo());\n",
    "        }\n",
    "\n"
   ]
  },
  {
   "cell_type": "code",
   "execution_count": null,
   "metadata": {
    "dotnet_interactive": {
     "language": "csharp"
    },
    "polyglot_notebook": {
     "kernelName": "csharp"
    }
   },
   "outputs": [
    {
     "name": "stdout",
     "output_type": "stream",
     "text": [
      "Пополнение в размере 500,00 ¤ успешно выполнено.\n",
      "Номер счета: 98765, Баланс: 2 575,00 ¤, Тип счета: Сберегательный, Процентная ставка: 3%, Статус счета: Активен\n",
      "Снятие в размере 300,00 ¤ успешно выполнено.\n",
      "Номер счета: 98765, Баланс: 2 275,00 ¤, Тип счета: Сберегательный, Процентная ставка: 3%, Статус счета: Активен\n"
     ]
    }
   ],
   "source": [
    "IBankOperations secureAccount = new SecureDepositAccount(\"98765\", 2000, \"Сберегательный\", 3);\n",
    "\n",
    "AccountManager manager = new AccountManager(secureAccount);\n",
    "\n",
    "manager.MakeDeposit(500);\n",
    "manager.PrintAccountInfo();\n",
    "\n",
    "manager.MakeWithdrawal(300);\n",
    "manager.PrintAccountInfo();"
   ]
  },
  {
   "cell_type": "code",
   "execution_count": 2,
   "metadata": {
    "dotnet_interactive": {
     "language": "csharp"
    },
    "polyglot_notebook": {
     "kernelName": "csharp"
    }
   },
   "outputs": [],
   "source": [
    "\n",
    "AccountStorage<BankAccount> storage = new AccountStorage<BankAccount>();\n",
    "storage.AddAccount(savingsAccount);\n",
    "storage.AddAccount(checkingAccount);\n",
    "storage.AddAccount(investmentAccount);\n",
    "\n",
    "\n",
    "storage.PrintAllAccountsInfo();\n",
    "storage.ShowCount();\n"
   ]
  },
  {
   "cell_type": "code",
   "execution_count": 69,
   "metadata": {
    "dotnet_interactive": {
     "language": "csharp"
    },
    "polyglot_notebook": {
     "kernelName": "csharp"
    }
   },
   "outputs": [],
   "source": [
    "BonusSavingsAccount bonusSavingsAccount = new BonusSavingsAccount(\n",
    "\"987654\", 6000, \"Сберегательный\", 3, 2); \n",
    "\n",
    "Console.WriteLine(bonusSavingsAccount.GetInfo());\n",
    "bonusSavingsAccount.ApplyBonus();\n",
    "Console.WriteLine(bonusSavingsAccount.GetInfo());"
   ]
  },
  {
   "cell_type": "code",
   "execution_count": 62,
   "metadata": {
    "dotnet_interactive": {
     "language": "csharp"
    },
    "polyglot_notebook": {
     "kernelName": "csharp"
    }
   },
   "outputs": [],
   "source": [
    "\n",
    "SecureDepositAccount secureAccount = new SecureDepositAccount(\"98765\", 2000, \"Депозит\", 2.5m);\n",
    "Console.WriteLine(secureAccount.GetInfo());\n",
    "secureAccount.Withdraw(1901);\n",
    "secureAccount.CheckSuspiciousActivity();\n",
    "Console.WriteLine(secureAccount.GetInfo());\n",
    "\n"
   ]
  },
  {
   "cell_type": "code",
   "execution_count": 81,
   "metadata": {
    "dotnet_interactive": {
     "language": "csharp"
    },
    "polyglot_notebook": {
     "kernelName": "csharp"
    }
   },
   "outputs": [],
   "source": [
    "MortgageAccount mortgageAccount = new MortgageAccount(\"98765\", 80000,\"Ипотечный\",4, 360);\n",
    "Console.WriteLine(mortgageAccount.GetInfo());"
   ]
  },
  {
   "cell_type": "code",
   "execution_count": 137,
   "metadata": {
    "dotnet_interactive": {
     "language": "csharp"
    },
    "polyglot_notebook": {
     "kernelName": "csharp"
    }
   },
   "outputs": [],
   "source": [
    "savingsAccount.Transfer(checkingAccount, 100);\n",
    "Console.WriteLine(savingsAccount.GetInfo());\n",
    "Console.WriteLine(checkingAccount.GetInfo());"
   ]
  },
  {
   "cell_type": "code",
   "execution_count": 100,
   "metadata": {
    "dotnet_interactive": {
     "language": "csharp"
    },
    "polyglot_notebook": {
     "kernelName": "csharp"
    }
   },
   "outputs": [],
   "source": []
  },
  {
   "cell_type": "markdown",
   "metadata": {},
   "source": []
  },
  {
   "cell_type": "code",
   "execution_count": 136,
   "metadata": {
    "dotnet_interactive": {
     "language": "csharp"
    },
    "polyglot_notebook": {
     "kernelName": "csharp"
    }
   },
   "outputs": [],
   "source": []
  }
 ],
 "metadata": {
  "kernelspec": {
   "display_name": ".NET (C#)",
   "language": "C#",
   "name": ".net-csharp"
  },
  "polyglot_notebook": {
   "kernelInfo": {
    "defaultKernelName": "csharp",
    "items": [
     {
      "aliases": [],
      "languageName": "csharp",
      "name": "csharp"
     }
    ]
   }
  }
 },
 "nbformat": 4,
 "nbformat_minor": 2
}
