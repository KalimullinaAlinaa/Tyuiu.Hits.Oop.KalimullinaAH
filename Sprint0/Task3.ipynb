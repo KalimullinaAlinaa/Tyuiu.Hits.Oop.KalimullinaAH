{
 "cells": [
  {
   "cell_type": "markdown",
   "metadata": {},
   "source": [
    "<h1 style=\"color:DodgerBlue\">Индивидальный проект</h1>"
   ]
  },
  {
   "cell_type": "markdown",
   "metadata": {},
   "source": [
    "<h2 style=\"color:DodgerBlue\">Название проекта:</h2>\n",
    "\n",
    "----\n",
    "\n",
    "### Вариант задания 7\n"
   ]
  },
  {
   "cell_type": "markdown",
   "metadata": {},
   "source": [
    "<h2 style=\"color:DodgerBlue\">Описание проекта:</h2>\n",
    "\n",
    "----\n",
    "Создать базовый класс BankAccount в C#, который будет представлять\n",
    "информацию об учетных записях в банке. На основе этого класса разработать 2-3\n",
    "производных класса, демонстрирующих принципы наследования и полиморфизма.\n",
    "В каждом из классов должны быть реализованы новые атрибуты и методы, а также\n",
    "переопределены некоторые методы базового класса для демонстрации\n",
    "полиморфизма. \n",
    "\n",
    "<b>Требования к базовому классу BankAccount:</b>\n",
    "<ul>\n",
    "    <li>Атрибуты: Номер счета (AccountNumber), Баланс (Balance), Тип счет (AccountType).</li>\n",
    "    <li>Методы:</li>\n",
    "    <ul>\n",
    "        <li>GetInfo(): метод для получения информации о счете в виде строки.</li>\n",
    "        <li>Deposit(decimal amount): метод для внесения денег на счет.</li>\n",
    "        <li>Withdraw(decimal amount): метод для снятия денег со счета.</li>\n",
    "    </ul>\n",
    "</ul>\n",
    "\n",
    "<b>Требования к производным классам:</b>\n",
    "\n",
    "<ol>\n",
    "    <li>Сберегательный счет (SavingsAccount): Должен содержать дополнительные атрибуты, такие как Процентная ставка (InterestRate). Метод Deposit() должен быть переопределен для добавления процентов к сумме вклада при внесении денег на счет.</li>\n",
    "    <li>Текущий счет (CheckingAccount): Должен содержать дополнительные атрибуты, такие как Лимит овердрафта (OverdraftLimit). Метод Withdra () должен быть переопределен для проверки и применения лимита овердрафта при снятии денег со счета.</li>\n",
    "    <li>Инвестиционный счет (InvestmentAccount) (если требуется третий класс): Должен содержать дополнительные атрибуты, такие как Список активов (AssetsList). Метод GetInfo() должен быть переопределен для включения информации о списках активов в описании счета.</li>\n",
    "</ol>\n"
   ]
  },
  {
   "cell_type": "markdown",
   "metadata": {},
   "source": [
    "<h2 style=\"color:DodgerBlue\">Реализация:</h2>\n",
    "\n",
    "----"
   ]
  },
  {
   "cell_type": "code",
   "execution_count": 73,
   "metadata": {
    "dotnet_interactive": {
     "language": "csharp"
    },
    "polyglot_notebook": {
     "kernelName": "csharp"
    }
   },
   "outputs": [
    {
     "name": "stdout",
     "output_type": "stream",
     "text": [
      "Номер счета: 12345, Баланс: 1165.50, Тип счета: Сберегательный, Процентная ставка: 5%\n",
      "Номер счета: 54321, Баланс: 200, Тип счета: Текущий, Лимит овердрафта: 200\n",
      "Номер счета: 678910, Баланс: 1500, Тип счета: Инвестиционный, Активы: Акция А123, Облигация Б321\n"
     ]
    }
   ],
   "source": [
    "public class BankAccount\n",
    "{\n",
    "    public string AccountNumber;  \n",
    "    public decimal Balance; \n",
    "    public string AccountType;\n",
    "\n",
    "    public BankAccount(string accountNumber, decimal initialBalance, string accountType)\n",
    "    {\n",
    "        AccountNumber = accountNumber;\n",
    "        Balance = initialBalance;\n",
    "        AccountType = accountType;\n",
    "    }\n",
    "\n",
    "    public virtual string GetInfo()//метод для получения информации о счете в виде строки.\n",
    "\n",
    "    {\n",
    "        return $\"Номер счета: {AccountNumber}, Баланс: {Balance}, Тип счета: {AccountType}\";\n",
    "    }\n",
    "\n",
    "    public virtual void Deposit(decimal amount)// метод для внесения денег на счет.\n",
    "    {\n",
    "        if (amount <= 0)\n",
    "            throw new ArgumentException(\"Сумма депозита должна быть положительной.\");\n",
    "        \n",
    "        Balance += amount;\n",
    "    }\n",
    "\n",
    "    public virtual void Withdraw(decimal amount)//метод для снятия денег со счета.\n",
    "    {\n",
    "        if (amount <= 0)\n",
    "            throw new ArgumentException(\"Сумма снятия должна быть положительной.\");\n",
    "\n",
    "        if (amount > Balance)\n",
    "            throw new ArgumentException(\"Недостаточно средств.\");\n",
    "        \n",
    "        Balance -= amount;\n",
    "    }\n",
    "}\n",
    "\n",
    "public class SavingsAccount : BankAccount\n",
    "{\n",
    "    public decimal InterestRate;  // процентная ставка\n",
    "\n",
    "    public SavingsAccount(string accountNumber, decimal initialBalance, string accountType, decimal interestRate)\n",
    "        : base(accountNumber, initialBalance, accountType)\n",
    "    {\n",
    "        InterestRate = interestRate;\n",
    "    }\n",
    "\n",
    "    public override void Deposit(decimal amount)\n",
    "    {\n",
    "        base.Deposit(amount);\n",
    "        \n",
    "        Balance += Balance * (InterestRate / 100);\n",
    "    }\n",
    "\n",
    "    public override string GetInfo()\n",
    "    {\n",
    "        return base.GetInfo() + $\", Процентная ставка: {InterestRate}%\";\n",
    "    }\n",
    "}\n",
    "\n",
    "public class CheckingAccount : BankAccount\n",
    "{\n",
    "    public decimal OverdraftLimit;  //лимит овердрафта\n",
    "\n",
    "    public CheckingAccount(string accountNumber, decimal initialBalance, string accountType, decimal overdraftLimit)\n",
    "        : base(accountNumber, initialBalance, accountType)\n",
    "    {\n",
    "        OverdraftLimit = overdraftLimit;\n",
    "    }\n",
    "\n",
    "    public override void Withdraw(decimal amount)\n",
    "    {\n",
    "        if (amount <= 0)\n",
    "            throw new ArgumentException(\"Сумма снятия должна быть положительной.\");\n",
    "\n",
    "        if (amount > Balance + OverdraftLimit)\n",
    "            throw new ArgumentException (\"Недостаточно средств для снятия, включая лимит овердрафта.\");\n",
    "        \n",
    "        Balance -= amount;\n",
    "    }\n",
    "\n",
    "    public override string GetInfo()\n",
    "    {\n",
    "        return base.GetInfo() + $\", Лимит овердрафта: {OverdraftLimit}\";\n",
    "    }\n",
    "}\n",
    "\n",
    "public class InvestmentAccount : BankAccount\n",
    "{\n",
    "    public List<string> AssetsList; //список активов\n",
    "\n",
    "    public InvestmentAccount(string accountNumber, decimal initialBalance, string accountType)\n",
    "        : base(accountNumber, initialBalance, accountType)\n",
    "    {\n",
    "        AssetsList = new List<string>();\n",
    "    }\n",
    "\n",
    "    public void AddAsset(string asset)\n",
    "    {\n",
    "        AssetsList.Add(asset);\n",
    "    }\n",
    "\n",
    "    public override string GetInfo()\n",
    "    {\n",
    "        string assets = AssetsList.Count > 0 ? string.Join(\", \", AssetsList) : \"Нет активов\";\n",
    "        return base.GetInfo() + $\", Активы: {assets}\";\n",
    "    }\n",
    "}\n",
    "\n",
    "\n",
    "\n",
    "\n",
    "\n",
    "\n",
    " try\n",
    "        {\n",
    "            BankAccount savingsAccount = new SavingsAccount(\"12345\", 1000, \"Сберегательный\", 5);\n",
    "            savingsAccount.Deposit(110);\n",
    "            Console.WriteLine(savingsAccount.GetInfo());\n",
    "        }\n",
    "        catch (Exception ex)\n",
    "        {\n",
    "            Console.WriteLine($\"Ошибка: {ex.Message}\");\n",
    "        }\n",
    "try\n",
    "        {\n",
    "            BankAccount checkingAccount = new CheckingAccount(\"54321\", 500, \"Текущий\", 200);\n",
    "            checkingAccount.Withdraw(300);\n",
    "            Console.WriteLine(checkingAccount.GetInfo());\n",
    "        }\n",
    "        catch (Exception ex)\n",
    "        {\n",
    "            Console.WriteLine($\"Ошибка: {ex.Message}\");\n",
    "        }\n",
    "try\n",
    "        {\n",
    "           InvestmentAccount investmentAccount = new InvestmentAccount(\"678910\", 1500, \"Инвестиционный\");\n",
    "            investmentAccount.AddAsset(\"Акция А123\");\n",
    "            investmentAccount.AddAsset(\"Облигация Б321\");\n",
    "            Console.WriteLine(investmentAccount.GetInfo());\n",
    "        }\n",
    "        catch (Exception ex)\n",
    "        {\n",
    "            Console.WriteLine($\"Ошибка: {ex.Message}\");\n",
    "        }\n"
   ]
  },
  {
   "cell_type": "markdown",
   "metadata": {},
   "source": [
    "ипотечный счет, потомок базового класса, атрибуты ставка срок ипотеки, метод расписания взносов, "
   ]
  }
 ],
 "metadata": {
  "kernelspec": {
   "display_name": ".NET (C#)",
   "language": "C#",
   "name": ".net-csharp"
  },
  "polyglot_notebook": {
   "kernelInfo": {
    "defaultKernelName": "csharp",
    "items": [
     {
      "aliases": [],
      "languageName": "csharp",
      "name": "csharp"
     }
    ]
   }
  }
 },
 "nbformat": 4,
 "nbformat_minor": 2
}
